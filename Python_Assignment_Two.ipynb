{
  "nbformat": 4,
  "nbformat_minor": 0,
  "metadata": {
    "colab": {
      "provenance": [],
      "authorship_tag": "ABX9TyMK0T/sWSCjP8DTMu3dE3PI",
      "include_colab_link": true
    },
    "kernelspec": {
      "name": "python3",
      "display_name": "Python 3"
    },
    "language_info": {
      "name": "python"
    }
  },
  "cells": [
    {
      "cell_type": "markdown",
      "metadata": {
        "id": "view-in-github",
        "colab_type": "text"
      },
      "source": [
        "<a href=\"https://colab.research.google.com/github/CynthiaJerono/Bernoulli-and-Binomial-Distributuion/blob/main/Python_Assignment_Two.ipynb\" target=\"_parent\"><img src=\"https://colab.research.google.com/assets/colab-badge.svg\" alt=\"Open In Colab\"/></a>"
      ]
    },
    {
      "cell_type": "code",
      "execution_count": 37,
      "metadata": {
        "id": "zC8xBbvvGJB6"
      },
      "outputs": [],
      "source": [
        "#Create an empty list called my_list.\n",
        "#Append the following elements to my_list: 10, 20, 30, 40.\n",
        "#Insert the value 15 at the second position in the list.\n",
        "#Extend my_list with another list: [50, 60, 70].\n",
        "#Remove the last element from my_list.\n",
        "#Sort my_list in ascending order.\n",
        "#Find and print the index of the value 30 in my_list.\n",
        "\n"
      ]
    },
    {
      "cell_type": "code",
      "source": [
        "my_list = []"
      ],
      "metadata": {
        "id": "BHQeTjNzICuf"
      },
      "execution_count": 38,
      "outputs": []
    },
    {
      "cell_type": "code",
      "source": [
        "my_list.append(10)\n",
        "my_list.append(20)\n",
        "my_list.append(30)\n",
        "my_list.append(40)\n",
        "print(my_list)"
      ],
      "metadata": {
        "colab": {
          "base_uri": "https://localhost:8080/"
        },
        "id": "v3thBSr4IUoX",
        "outputId": "a54e8c0f-6803-4e24-f402-93a23c6603e0"
      },
      "execution_count": 39,
      "outputs": [
        {
          "output_type": "stream",
          "name": "stdout",
          "text": [
            "[10, 20, 30, 40]\n"
          ]
        }
      ]
    },
    {
      "cell_type": "code",
      "source": [
        "my_list.insert(1, 15)\n",
        "print(my_list)"
      ],
      "metadata": {
        "colab": {
          "base_uri": "https://localhost:8080/"
        },
        "id": "GOmTzar3MkE0",
        "outputId": "7bb1660e-df59-4a31-ab54-c51547d2f021"
      },
      "execution_count": 40,
      "outputs": [
        {
          "output_type": "stream",
          "name": "stdout",
          "text": [
            "[10, 15, 20, 30, 40]\n"
          ]
        }
      ]
    },
    {
      "cell_type": "code",
      "source": [
        "my_list=[10,15,20,30,40]\n",
        "my_list.append([50,60,70])\n",
        "print(my_list)\n"
      ],
      "metadata": {
        "colab": {
          "base_uri": "https://localhost:8080/"
        },
        "id": "cvGenP7pbQfA",
        "outputId": "ce276463-5a2d-4d99-c401-c2d7e5df20eb"
      },
      "execution_count": 41,
      "outputs": [
        {
          "output_type": "stream",
          "name": "stdout",
          "text": [
            "[10, 15, 20, 30, 40, [50, 60, 70]]\n"
          ]
        }
      ]
    },
    {
      "cell_type": "code",
      "source": [
        "my_list=[10,15,20,30,40]\n",
        "my_list.extend([50,60,70])\n",
        "print(my_list)"
      ],
      "metadata": {
        "colab": {
          "base_uri": "https://localhost:8080/"
        },
        "id": "KfURtst4dFsU",
        "outputId": "e141189c-7c20-4548-e764-35e9c68f636a"
      },
      "execution_count": 42,
      "outputs": [
        {
          "output_type": "stream",
          "name": "stdout",
          "text": [
            "[10, 15, 20, 30, 40, 50, 60, 70]\n"
          ]
        }
      ]
    },
    {
      "cell_type": "code",
      "source": [
        "my_list = [10, 15, 20, 30, 40, 50, 60, 70]\n",
        "\n",
        "removed_item = my_list.pop(7)\n",
        "print(\"Removed:\", removed_item)\n",
        "print(\"Updated list:\", my_list)\n",
        "\n",
        "# Noticed that Use .remove(value) → when you know the value but not its position.\n",
        "# Removes last element and returns it or use -1 (it gives the same result)\n",
        "#Use .pop(index) → when you know the exact position in the list."
      ],
      "metadata": {
        "colab": {
          "base_uri": "https://localhost:8080/"
        },
        "id": "0pOXkznufyD4",
        "outputId": "703ae75b-28c8-482e-f579-9a592c9ec854"
      },
      "execution_count": 47,
      "outputs": [
        {
          "output_type": "stream",
          "name": "stdout",
          "text": [
            "Removed: 70\n",
            "Updated list: [10, 15, 20, 30, 40, 50, 60]\n"
          ]
        }
      ]
    },
    {
      "cell_type": "code",
      "source": [
        "print (my_list)\n"
      ],
      "metadata": {
        "colab": {
          "base_uri": "https://localhost:8080/"
        },
        "id": "teEG3RtyfzJq",
        "outputId": "1fee09f7-761b-4573-94af-5798db16da80"
      },
      "execution_count": 48,
      "outputs": [
        {
          "output_type": "stream",
          "name": "stdout",
          "text": [
            "[10, 15, 20, 30, 40, 50, 60]\n"
          ]
        }
      ]
    },
    {
      "cell_type": "code",
      "source": [
        "my_list=[10, 15, 20, 30, 40, 50, 60]\n",
        "my_list.sort\n",
        "print(my_list)\n",
        "# Sorts the list in place (changes original list)"
      ],
      "metadata": {
        "colab": {
          "base_uri": "https://localhost:8080/"
        },
        "id": "oKMEneqjkvnC",
        "outputId": "4ae415dd-1132-4374-b344-658e3285c0b1"
      },
      "execution_count": 49,
      "outputs": [
        {
          "output_type": "stream",
          "name": "stdout",
          "text": [
            "[10, 15, 20, 30, 40, 50, 60]\n"
          ]
        }
      ]
    },
    {
      "cell_type": "code",
      "source": [
        "my_list = [50, 10, 40, 30, 20]\n",
        "\n",
        "new_list = sorted(my_list)  # Creates a new sorted list without changing the original\n",
        "print(\"Original:\", my_list)\n",
        "print(\"Sorted:\", new_list)\n"
      ],
      "metadata": {
        "colab": {
          "base_uri": "https://localhost:8080/"
        },
        "id": "QpP6iLA2n0WR",
        "outputId": "317fc62b-e34a-49d9-e537-d82b7b3cae3a"
      },
      "execution_count": 50,
      "outputs": [
        {
          "output_type": "stream",
          "name": "stdout",
          "text": [
            "Original: [50, 10, 40, 30, 20]\n",
            "Sorted: [10, 20, 30, 40, 50]\n"
          ]
        }
      ]
    },
    {
      "cell_type": "code",
      "source": [
        "my_list = [10, 15,20, 30, 40, 50, 60]\n",
        "index_of_30 = my_list.index(30)\n",
        "print(index_of_30)\n"
      ],
      "metadata": {
        "colab": {
          "base_uri": "https://localhost:8080/"
        },
        "id": "Qo6F9G6Fo7E9",
        "outputId": "0c71ffb6-4601-42e8-b06e-ddb9430ca3bf"
      },
      "execution_count": 51,
      "outputs": [
        {
          "output_type": "stream",
          "name": "stdout",
          "text": [
            "3\n"
          ]
        }
      ]
    }
  ]
}